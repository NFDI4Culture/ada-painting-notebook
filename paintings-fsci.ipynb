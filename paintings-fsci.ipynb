{
 "cells": [
  {
   "cell_type": "raw",
   "metadata": {},
   "source": [
    "---\n",
    "title: \"Paintings catalogue FSCI\"\n",
    "jupyter: python3\n",
    "execute:\n",
    "  echo: false\n",
    "  output: asis\n",
    "---"
   ]
  },
  {
   "attachments": {},
   "cell_type": "markdown",
   "id": "97bccdc4",
   "metadata": {},
   "source": [
    "Objective: Make a selection paintings for the exhibition catalogue to be selected from Wikidata and rendered multi-format in Quarto."
   ]
  },
  {
   "attachments": {},
   "cell_type": "markdown",
   "id": "bd2c1006",
   "metadata": {},
   "source": [
    "The below Python code uses SPARQLWrapper to retrieve data from Wikidata based on a SPARQL query."
   ]
  },
  {
   "cell_type": "code",
   "execution_count": 4,
   "id": "eae3a22f",
   "metadata": {},
   "outputs": [
    {
     "name": "stdout",
     "output_type": "stream",
     "text": [
      "{'painting': {'type': 'uri', 'value': 'http://www.wikidata.org/entity/Q104412992'}, 'creatorLabel': {'xml:lang': 'en', 'type': 'literal', 'value': 'William Guy Wall'}, 'image': {'type': 'uri', 'value': 'http://commons.wikimedia.org/wiki/Special:FilePath/New%20York%20from%20the%20Heights%20near%20Brooklyn%20MET%20DT5423.jpg'}, 'copyright_status': {'type': 'uri', 'value': 'http://www.wikidata.org/entity/Q19652'}, 'inventory_number': {'type': 'literal', 'value': '54.90.301'}, 'made_from_materialLabels': {'type': 'literal', 'value': ''}, 'locationLabel': {'xml:lang': 'en', 'type': 'literal', 'value': 'Metropolitan Museum of Art'}, 'genreLabels': {'type': 'literal', 'value': 'landscape art'}, 'depictsLabels': {'type': 'literal', 'value': 'river, boat, landscape art'}}\n",
      "{'painting': {'type': 'uri', 'value': 'http://www.wikidata.org/entity/Q116444817'}, 'made_from_materialLabels': {'type': 'literal', 'value': ''}, 'genreLabels': {'type': 'literal', 'value': 'landscape art'}, 'depictsLabels': {'type': 'literal', 'value': 'river, mountain, waterfall'}}\n",
      "{'painting': {'type': 'uri', 'value': 'http://www.wikidata.org/entity/Q16667013'}, 'creatorLabel': {'xml:lang': 'en', 'type': 'literal', 'value': 'Arkhip Kuindzhi'}, 'image': {'type': 'uri', 'value': 'http://commons.wikimedia.org/wiki/Special:FilePath/1905%20Archip%20Iwanowitsch%20Kuindshi%20Sunset%20Dnieper%20anagoria.JPG'}, 'copyright_status': {'type': 'uri', 'value': 'http://www.wikidata.org/entity/Q19652'}, 'inventory_number': {'type': 'literal', 'value': '1974.100'}, 'made_from_materialLabels': {'type': 'literal', 'value': 'oil paint, canvas'}, 'locationLabel': {'xml:lang': 'en', 'type': 'literal', 'value': 'Metropolitan Museum of Art'}, 'genreLabels': {'type': 'literal', 'value': 'landscape art'}, 'depictsLabels': {'type': 'literal', 'value': 'Sun, river, evening, Dnieper, landscape art'}}\n",
      "{'painting': {'type': 'uri', 'value': 'http://www.wikidata.org/entity/Q1913390'}, 'creatorLabel': {'xml:lang': 'en', 'type': 'literal', 'value': 'Thomas Eakins'}, 'image': {'type': 'uri', 'value': 'http://commons.wikimedia.org/wiki/Special:FilePath/Max%20Schmitt%20in%20a%20Single%20Scull.jpg'}, 'copyright_status': {'type': 'uri', 'value': 'http://www.wikidata.org/entity/Q19652'}, 'inventory_number': {'type': 'literal', 'value': '34.92'}, 'made_from_materialLabels': {'type': 'literal', 'value': 'oil paint'}, 'locationLabel': {'xml:lang': 'en', 'type': 'literal', 'value': 'Metropolitan Museum of Art'}, 'genreLabels': {'type': 'literal', 'value': 'portrait, landscape art'}, 'depictsLabels': {'type': 'literal', 'value': 'house, river, man, tree, bridge, boat, landscape, rowing'}}\n",
      "{'painting': {'type': 'uri', 'value': 'http://www.wikidata.org/entity/Q19905131'}, 'creatorLabel': {'xml:lang': 'en', 'type': 'literal', 'value': 'Claude Monet'}, 'image': {'type': 'uri', 'value': 'http://commons.wikimedia.org/wiki/Special:FilePath/1891%20Monet%20The%20four%20trees%20anagoria.JPG'}, 'copyright_status': {'type': 'uri', 'value': 'http://www.wikidata.org/entity/Q19652'}, 'inventory_number': {'type': 'literal', 'value': '29.100.110'}, 'made_from_materialLabels': {'type': 'literal', 'value': 'oil paint, canvas'}, 'locationLabel': {'xml:lang': 'en', 'type': 'literal', 'value': 'Metropolitan Museum of Art'}, 'genreLabels': {'type': 'literal', 'value': ''}, 'depictsLabels': {'type': 'literal', 'value': 'river, tree'}}\n",
      "{'painting': {'type': 'uri', 'value': 'http://www.wikidata.org/entity/Q19905268'}, 'creatorLabel': {'xml:lang': 'en', 'type': 'literal', 'value': 'Georges Seurat'}, 'image': {'type': 'uri', 'value': 'http://commons.wikimedia.org/wiki/Special:FilePath/Gray%20Weather%2C%20Grande%20Jatte%20MET%20DT1945.jpg'}, 'copyright_status': {'type': 'uri', 'value': 'http://www.wikidata.org/entity/Q19652'}, 'inventory_number': {'type': 'literal', 'value': '2002.62.3'}, 'made_from_materialLabels': {'type': 'literal', 'value': 'oil paint, canvas'}, 'locationLabel': {'xml:lang': 'en', 'type': 'literal', 'value': 'Metropolitan Museum of Art'}, 'genreLabels': {'type': 'literal', 'value': 'landscape art'}, 'depictsLabels': {'type': 'literal', 'value': 'house, river, tree, boat'}}\n",
      "{'painting': {'type': 'uri', 'value': 'http://www.wikidata.org/entity/Q19905309'}, 'creatorLabel': {'xml:lang': 'en', 'type': 'literal', 'value': 'Gustave Courbet'}, 'image': {'type': 'uri', 'value': 'http://commons.wikimedia.org/wiki/Special:FilePath/The%20Source%20of%20the%20Loue%20MET%20DT1964.jpg'}, 'copyright_status': {'type': 'uri', 'value': 'http://www.wikidata.org/entity/Q19652'}, 'inventory_number': {'type': 'literal', 'value': '29.100.122'}, 'made_from_materialLabels': {'type': 'literal', 'value': 'oil paint, canvas'}, 'locationLabel': {'xml:lang': 'en', 'type': 'literal', 'value': 'Metropolitan Museum of Art'}, 'genreLabels': {'type': 'literal', 'value': 'landscape art'}, 'depictsLabels': {'type': 'literal', 'value': 'river'}}\n",
      "{'painting': {'type': 'uri', 'value': 'http://www.wikidata.org/entity/Q19905328'}, 'creatorLabel': {'xml:lang': 'en', 'type': 'literal', 'value': 'Bernardo Bellotto'}, 'image': {'type': 'uri', 'value': 'http://commons.wikimedia.org/wiki/Special:FilePath/Vaprio%20d%27Adda%20MET%20DT4603.jpg'}, 'copyright_status': {'type': 'uri', 'value': 'http://www.wikidata.org/entity/Q19652'}, 'inventory_number': {'type': 'literal', 'value': '39.142'}, 'made_from_materialLabels': {'type': 'literal', 'value': 'oil paint, canvas'}, 'locationLabel': {'xml:lang': 'en', 'type': 'literal', 'value': 'Metropolitan Museum of Art'}, 'genreLabels': {'type': 'literal', 'value': ''}, 'depictsLabels': {'type': 'literal', 'value': 'woman, town, river, man, boat'}}\n",
      "{'painting': {'type': 'uri', 'value': 'http://www.wikidata.org/entity/Q19905353'}, 'creatorLabel': {'xml:lang': 'en', 'type': 'literal', 'value': 'Claude Monet'}, 'image': {'type': 'uri', 'value': 'http://commons.wikimedia.org/wiki/Special:FilePath/Ice%20Floes%20MET%20DT2158.jpg'}, 'copyright_status': {'type': 'uri', 'value': 'http://www.wikidata.org/entity/Q19652'}, 'inventory_number': {'type': 'literal', 'value': '29.100.108'}, 'made_from_materialLabels': {'type': 'literal', 'value': 'oil paint, canvas'}, 'locationLabel': {'xml:lang': 'en', 'type': 'literal', 'value': 'Metropolitan Museum of Art'}, 'genreLabels': {'type': 'literal', 'value': ''}, 'depictsLabels': {'type': 'literal', 'value': 'winter, river, ice'}}\n",
      "{'painting': {'type': 'uri', 'value': 'http://www.wikidata.org/entity/Q19905366'}, 'creatorLabel': {'xml:lang': 'en', 'type': 'literal', 'value': 'Camille Pissarro'}, 'image': {'type': 'uri', 'value': 'http://commons.wikimedia.org/wiki/Special:FilePath/Steamboats%20in%20the%20Port%20of%20Rouen.jpg'}, 'copyright_status': {'type': 'uri', 'value': 'http://www.wikidata.org/entity/Q19652'}, 'inventory_number': {'type': 'literal', 'value': '58.133'}, 'made_from_materialLabels': {'type': 'literal', 'value': 'oil paint, canvas'}, 'locationLabel': {'xml:lang': 'en', 'type': 'literal', 'value': 'Metropolitan Museum of Art'}, 'genreLabels': {'type': 'literal', 'value': ''}, 'depictsLabels': {'type': 'literal', 'value': 'river, Rouen, boat, port, steamboat'}}\n",
      "{'painting': {'type': 'uri', 'value': 'http://www.wikidata.org/entity/Q19905448'}, 'creatorLabel': {'xml:lang': 'en', 'type': 'literal', 'value': 'Claude Monet'}, 'image': {'type': 'uri', 'value': 'http://commons.wikimedia.org/wiki/Special:FilePath/V%C3%A9theuil%20in%20Summer%20MET%20DT1898.jpg'}, 'copyright_status': {'type': 'uri', 'value': 'http://www.wikidata.org/entity/Q19652'}, 'inventory_number': {'type': 'literal', 'value': '51.30.3'}, 'made_from_materialLabels': {'type': 'literal', 'value': 'oil paint, canvas'}, 'locationLabel': {'xml:lang': 'en', 'type': 'literal', 'value': 'Metropolitan Museum of Art'}, 'genreLabels': {'type': 'literal', 'value': 'landscape art'}, 'depictsLabels': {'type': 'literal', 'value': 'summer, town, river, tree, landscape art'}}\n",
      "{'painting': {'type': 'uri', 'value': 'http://www.wikidata.org/entity/Q19906251'}, 'creatorLabel': {'xml:lang': 'en', 'type': 'literal', 'value': 'Samuel Scott'}, 'image': {'type': 'uri', 'value': 'http://commons.wikimedia.org/wiki/Special:FilePath/The%20Building%20of%20Westminster%20Bridge%20MET%20DP169565.jpg'}, 'copyright_status': {'type': 'uri', 'value': 'http://www.wikidata.org/entity/Q19652'}, 'inventory_number': {'type': 'literal', 'value': '44.56'}, 'made_from_materialLabels': {'type': 'literal', 'value': 'oil paint, canvas'}, 'locationLabel': {'xml:lang': 'en', 'type': 'literal', 'value': 'Metropolitan Museum of Art'}, 'genreLabels': {'type': 'literal', 'value': ''}, 'depictsLabels': {'type': 'literal', 'value': 'cathedral, river, bridge, boat, building'}}\n",
      "{'painting': {'type': 'uri', 'value': 'http://www.wikidata.org/entity/Q19906270'}, 'creatorLabel': {'xml:lang': 'en', 'type': 'literal', 'value': 'Camille Pissarro'}, 'image': {'type': 'uri', 'value': 'http://commons.wikimedia.org/wiki/Special:FilePath/Camille%20Pissarro%20-%20Les%20Ponts%20Boieldieu%20%C3%A0%20Rouen%2C%20matin%2C%20temps%20mouill%C3%A9%201140.jpg'}, 'copyright_status': {'type': 'uri', 'value': 'http://www.wikidata.org/entity/Q19652'}, 'inventory_number': {'type': 'literal', 'value': '1980.21.1'}, 'made_from_materialLabels': {'type': 'literal', 'value': 'oil paint, canvas'}, 'locationLabel': {'xml:lang': 'en', 'type': 'literal', 'value': 'Metropolitan Museum of Art'}, 'genreLabels': {'type': 'literal', 'value': 'cityscape'}, 'depictsLabels': {'type': 'literal', 'value': 'city, river, ship, bridge, Rouen, boat, port, chimney'}}\n",
      "{'painting': {'type': 'uri', 'value': 'http://www.wikidata.org/entity/Q19911476'}, 'creatorLabel': {'xml:lang': 'en', 'type': 'literal', 'value': 'Nicolas Poussin'}, 'image': {'type': 'uri', 'value': 'http://commons.wikimedia.org/wiki/Special:FilePath/Midas%20Washing%20at%20the%20Source%20of%20the%20Pactolus%20MET%20DP123854.jpg'}, 'copyright_status': {'type': 'uri', 'value': 'http://www.wikidata.org/entity/Q19652'}, 'inventory_number': {'type': 'literal', 'value': '71.56'}, 'made_from_materialLabels': {'type': 'literal', 'value': 'oil paint, canvas'}, 'locationLabel': {'xml:lang': 'en', 'type': 'literal', 'value': 'Metropolitan Museum of Art'}, 'genreLabels': {'type': 'literal', 'value': ''}, 'depictsLabels': {'type': 'literal', 'value': 'river, child, man, Midas'}}\n",
      "{'painting': {'type': 'uri', 'value': 'http://www.wikidata.org/entity/Q19911548'}, 'creatorLabel': {'xml:lang': 'en', 'type': 'literal', 'value': 'Théodore Géricault'}, 'image': {'type': 'uri', 'value': 'http://commons.wikimedia.org/wiki/Special:FilePath/Th%C3%A9odore%20G%C3%A9ricault%20-%20Evening%2C%20Landscape%20with%20an%20Aqueduct.jpg'}, 'copyright_status': {'type': 'uri', 'value': 'http://www.wikidata.org/entity/Q19652'}, 'inventory_number': {'type': 'literal', 'value': '1989.183'}, 'made_from_materialLabels': {'type': 'literal', 'value': 'oil paint, canvas'}, 'locationLabel': {'xml:lang': 'en', 'type': 'literal', 'value': 'Metropolitan Museum of Art'}, 'genreLabels': {'type': 'literal', 'value': 'landscape art'}, 'depictsLabels': {'type': 'literal', 'value': 'aqueduct, river, evening, man, landscape art'}}\n",
      "{'painting': {'type': 'uri', 'value': 'http://www.wikidata.org/entity/Q19911635'}, 'creatorLabel': {'xml:lang': 'en', 'type': 'literal', 'value': 'Claude Lorrain'}, 'image': {'type': 'uri', 'value': 'http://commons.wikimedia.org/wiki/Special:FilePath/The%20Ford%20MET%20DP123844.jpg'}, 'copyright_status': {'type': 'uri', 'value': 'http://www.wikidata.org/entity/Q19652'}, 'inventory_number': {'type': 'literal', 'value': '28.117'}, 'made_from_materialLabels': {'type': 'literal', 'value': 'oil paint, canvas'}, 'locationLabel': {'xml:lang': 'en', 'type': 'literal', 'value': 'Metropolitan Museum of Art'}, 'genreLabels': {'type': 'literal', 'value': 'landscape art'}, 'depictsLabels': {'type': 'literal', 'value': 'woman, river, man, boat, landscape art'}}\n",
      "{'painting': {'type': 'uri', 'value': 'http://www.wikidata.org/entity/Q19911677'}, 'creatorLabel': {'xml:lang': 'en', 'type': 'literal', 'value': 'Pierre-Henri de Valenciennes'}, 'image': {'type': 'uri', 'value': 'http://commons.wikimedia.org/wiki/Special:FilePath/The%20Banks%20of%20the%20Rance%2C%20Brittany%20MET%20DP169468.jpg'}, 'copyright_status': {'type': 'uri', 'value': 'http://www.wikidata.org/entity/Q19652'}, 'inventory_number': {'type': 'literal', 'value': '2003.42.54'}, 'made_from_materialLabels': {'type': 'literal', 'value': ''}, 'locationLabel': {'xml:lang': 'en', 'type': 'literal', 'value': 'Metropolitan Museum of Art'}, 'genreLabels': {'type': 'literal', 'value': ''}, 'depictsLabels': {'type': 'literal', 'value': 'river, tree'}}\n",
      "{'painting': {'type': 'uri', 'value': 'http://www.wikidata.org/entity/Q19911793'}, 'creatorLabel': {'type': 'literal', 'value': 'http://www.wikidata.org/.well-known/genid/412613f48ccb2e3a893a23a2f14d6d9b'}, 'copyright_status': {'type': 'uri', 'value': 'http://www.wikidata.org/entity/Q19652'}, 'inventory_number': {'type': 'literal', 'value': '2003.42.17'}, 'made_from_materialLabels': {'type': 'literal', 'value': ''}, 'locationLabel': {'xml:lang': 'en', 'type': 'literal', 'value': 'Metropolitan Museum of Art'}, 'genreLabels': {'type': 'literal', 'value': 'landscape art'}, 'depictsLabels': {'type': 'literal', 'value': 'river, landscape art'}}\n",
      "{'painting': {'type': 'uri', 'value': 'http://www.wikidata.org/entity/Q19911819'}, 'creatorLabel': {'xml:lang': 'en', 'type': 'literal', 'value': 'Paul Cézanne'}, 'image': {'type': 'uri', 'value': 'http://commons.wikimedia.org/wiki/Special:FilePath/Paul%20C%C3%A9zanne%20-%20Les%20P%C3%AAcheurs%20%28sc%C3%A8ne%20fantastique%29.jpg'}, 'copyright_status': {'type': 'uri', 'value': 'http://www.wikidata.org/entity/Q19652'}, 'inventory_number': {'type': 'literal', 'value': '2001.473'}, 'made_from_materialLabels': {'type': 'literal', 'value': 'oil paint, canvas'}, 'locationLabel': {'xml:lang': 'en', 'type': 'literal', 'value': 'Metropolitan Museum of Art'}, 'genreLabels': {'type': 'literal', 'value': 'genre art'}, 'depictsLabels': {'type': 'literal', 'value': 'woman, river, man'}}\n",
      "{'painting': {'type': 'uri', 'value': 'http://www.wikidata.org/entity/Q19911853'}, 'creatorLabel': {'xml:lang': 'en', 'type': 'literal', 'value': 'Claude Lorrain'}, 'image': {'type': 'uri', 'value': 'http://commons.wikimedia.org/wiki/Special:FilePath/La%20campi%C3%B1a%20romana%2C1639%2C%20Claude%20Lorrain.jpg'}, 'copyright_status': {'type': 'uri', 'value': 'http://www.wikidata.org/entity/Q19652'}, 'inventory_number': {'type': 'literal', 'value': '65.181.12'}, 'made_from_materialLabels': {'type': 'literal', 'value': 'oil paint, canvas'}, 'locationLabel': {'xml:lang': 'en', 'type': 'literal', 'value': 'Metropolitan Museum of Art'}, 'genreLabels': {'type': 'literal', 'value': 'landscape art'}, 'depictsLabels': {'type': 'literal', 'value': 'cattle, river, landscape, landscape art'}}\n",
      "{'painting': {'type': 'uri', 'value': 'http://www.wikidata.org/entity/Q19911853'}, 'creatorLabel': {'xml:lang': 'en', 'type': 'literal', 'value': 'Claude Lorrain'}, 'image': {'type': 'uri', 'value': 'http://commons.wikimedia.org/wiki/Special:FilePath/La%20campi%C3%B1a%20romana%2C1639%2C%20Claude%20Lorrain.jpg'}, 'copyright_status': {'type': 'uri', 'value': 'http://www.wikidata.org/entity/Q19652'}, 'inventory_number': {'type': 'literal', 'value': '65.181.12'}, 'made_from_materialLabels': {'type': 'literal', 'value': 'oil paint, canvas'}, 'locationLabel': {'xml:lang': 'en', 'type': 'literal', 'value': 'Olantigh'}, 'genreLabels': {'type': 'literal', 'value': 'landscape art'}, 'depictsLabels': {'type': 'literal', 'value': 'cattle, river, landscape, landscape art'}}\n",
      "{'painting': {'type': 'uri', 'value': 'http://www.wikidata.org/entity/Q19911975'}, 'creatorLabel': {'xml:lang': 'en', 'type': 'literal', 'value': 'Jules Dupré'}, 'image': {'type': 'uri', 'value': 'http://commons.wikimedia.org/wiki/Special:FilePath/Jules%20Dupr%C3%A9%20-%20Vaches%20traversant%20un%20gu%C3%A9%20%281836%29.jpg'}, 'copyright_status': {'type': 'uri', 'value': 'http://www.wikidata.org/entity/Q19652'}, 'inventory_number': {'type': 'literal', 'value': '67.213'}, 'made_from_materialLabels': {'type': 'literal', 'value': 'oil paint, canvas'}, 'locationLabel': {'xml:lang': 'en', 'type': 'literal', 'value': 'Metropolitan Museum of Art'}, 'genreLabels': {'type': 'literal', 'value': 'landscape art'}, 'depictsLabels': {'type': 'literal', 'value': 'dog, horse, cattle, river, equestrianism, landscape art'}}\n",
      "{'painting': {'type': 'uri', 'value': 'http://www.wikidata.org/entity/Q19912124'}, 'creatorLabel': {'xml:lang': 'en', 'type': 'literal', 'value': 'Claude Monet'}, 'image': {'type': 'uri', 'value': 'http://commons.wikimedia.org/wiki/Special:FilePath/Rapids%20on%20the%20Petite%20Creuse%20at%20Fresselines%20MET%20DT226477.jpg'}, 'copyright_status': {'type': 'uri', 'value': 'http://www.wikidata.org/entity/Q19652'}, 'inventory_number': {'type': 'literal', 'value': '67.187.88'}, 'made_from_materialLabels': {'type': 'literal', 'value': 'oil paint, canvas'}, 'locationLabel': {'xml:lang': 'en', 'type': 'literal', 'value': 'Metropolitan Museum of Art'}, 'genreLabels': {'type': 'literal', 'value': ''}, 'depictsLabels': {'type': 'literal', 'value': 'river, Petite Creuse'}}\n",
      "{'painting': {'type': 'uri', 'value': 'http://www.wikidata.org/entity/Q19912126'}, 'creatorLabel': {'xml:lang': 'en', 'type': 'literal', 'value': 'Claude Monet'}, 'image': {'type': 'uri', 'value': 'http://commons.wikimedia.org/wiki/Special:FilePath/The%20Houses%20of%20Parliament%20%28Effect%20of%20Fog%29%20MET%20DT1893.jpg'}, 'copyright_status': {'type': 'uri', 'value': 'http://www.wikidata.org/entity/Q19652'}, 'inventory_number': {'type': 'literal', 'value': '56.135.6'}, 'made_from_materialLabels': {'type': 'literal', 'value': 'oil paint, canvas'}, 'locationLabel': {'xml:lang': 'en', 'type': 'literal', 'value': 'Metropolitan Museum of Art'}, 'genreLabels': {'type': 'literal', 'value': ''}, 'depictsLabels': {'type': 'literal', 'value': 'river, boat, building, Palace of Westminster'}}\n",
      "{'painting': {'type': 'uri', 'value': 'http://www.wikidata.org/entity/Q19912128'}, 'creatorLabel': {'xml:lang': 'en', 'type': 'literal', 'value': 'Claude Monet'}, 'image': {'type': 'uri', 'value': 'http://commons.wikimedia.org/wiki/Special:FilePath/Claude%20Monet%20-%20%C3%8Ele%20aux%20Fleurs%20near%20V%C3%A9theuil.jpg'}, 'copyright_status': {'type': 'uri', 'value': 'http://www.wikidata.org/entity/Q19652'}, 'inventory_number': {'type': 'literal', 'value': '56.135.5'}, 'made_from_materialLabels': {'type': 'literal', 'value': 'oil paint, canvas'}, 'locationLabel': {'xml:lang': 'en', 'type': 'literal', 'value': 'Metropolitan Museum of Art'}, 'genreLabels': {'type': 'literal', 'value': 'landscape art'}, 'depictsLabels': {'type': 'literal', 'value': 'river, landscape art'}}\n",
      "{'painting': {'type': 'uri', 'value': 'http://www.wikidata.org/entity/Q19912296'}, 'creatorLabel': {'xml:lang': 'en', 'type': 'literal', 'value': 'Philip de Koninck'}, 'image': {'type': 'uri', 'value': 'http://commons.wikimedia.org/wiki/Special:FilePath/Wide%20River%20Landscape%20MET%20DP146493.jpg'}, 'copyright_status': {'type': 'uri', 'value': 'http://www.wikidata.org/entity/Q19652'}, 'inventory_number': {'type': 'literal', 'value': '63.43.2'}, 'made_from_materialLabels': {'type': 'literal', 'value': 'oil paint, canvas'}, 'locationLabel': {'xml:lang': 'en', 'type': 'literal', 'value': 'Metropolitan Museum of Art'}, 'genreLabels': {'type': 'literal', 'value': 'landscape art'}, 'depictsLabels': {'type': 'literal', 'value': 'river, boat, landscape art'}}\n",
      "{'painting': {'type': 'uri', 'value': 'http://www.wikidata.org/entity/Q19912384'}, 'creatorLabel': {'xml:lang': 'en', 'type': 'literal', 'value': 'Claude Monet'}, 'image': {'type': 'uri', 'value': 'http://commons.wikimedia.org/wiki/Special:FilePath/Morning%20on%20the%20Seine%20near%20Giverny%20MET%20DT1903.jpg'}, 'copyright_status': {'type': 'uri', 'value': 'http://www.wikidata.org/entity/Q19652'}, 'inventory_number': {'type': 'literal', 'value': '56.135.4'}, 'made_from_materialLabels': {'type': 'literal', 'value': 'oil paint, canvas'}, 'locationLabel': {'xml:lang': 'en', 'type': 'literal', 'value': 'Metropolitan Museum of Art'}, 'genreLabels': {'type': 'literal', 'value': ''}, 'depictsLabels': {'type': 'literal', 'value': 'river, morning, tree'}}\n"
     ]
    }
   ],
   "source": [
    "# pip install sparqlwrapper\n",
    "# https://rdflib.github.io/sparqlwrapper/\n",
    "\n",
    "# query URL https://query.wikidata.org/#SELECT%20%0A%20%20%3Fpainting%20%0A%20%20%3FcreatorLabel%0A%20%20%3Fimage%0A%20%20%3Fcopyright_status%20%0A%20%20%3Finventory_number%20%0A%20%20%28GROUP_CONCAT%28DISTINCT%20%3Fmade_from_materialLabel%3B%20separator%3D%22%2C%20%22%29%20AS%20%3Fmade_from_materialLabels%29%20%0A%20%20%3FlocationLabel%0A%20%20%28GROUP_CONCAT%28DISTINCT%20%3FgenreLabel%3B%20separator%3D%22%2C%20%22%29%20AS%20%3FgenreLabels%29%20%0A%20%20%28GROUP_CONCAT%28DISTINCT%20%3FdepictsLabel%3B%20separator%3D%22%2C%20%22%29%20AS%20%3FdepictsLabels%29%20%0A%20%20%3Fmain_subjectLabel%0AWHERE%20%7B%0A%20%20%3Fpainting%20wdt%3AP31%20wd%3AQ3305213%3B%20%20%23%20Instance%20of%20%22painting%22%0A%20%20%20%20%20%20%20%20%20%20%20%20wdt%3AP195%20wd%3AQ160236%3B%20%20%20%23%20Part%20of%20the%20Metropolitan%20Museum%20of%20Art%20collection%0A%20%20%20%20%20%20%20%20%20%20%20%20wdt%3AP180%20wd%3AQ4022.%20%20%20%20%23%20Depicts%20%27river%27%0A%20%20OPTIONAL%20%7B%20%3Fpainting%20wdt%3AP170%20%3Fcreator.%20%7D%0A%20%20OPTIONAL%20%7B%20%3Fpainting%20wdt%3AP18%20%3Fimage.%20%7D%0A%20%20OPTIONAL%20%7B%20%3Fpainting%20wdt%3AP6216%20%3Fcopyright_status.%20%7D%0A%20%20OPTIONAL%20%7B%20%3Fpainting%20wdt%3AP571%20%3Finception.%20%7D%0A%20%20OPTIONAL%20%7B%20%3Fpainting%20wdt%3AP217%20%3Finventory_number.%20%7D%0A%20%20OPTIONAL%20%7B%20%3Fpainting%20wdt%3AP186%20%3Fmade_from_material.%20%7D%0A%20%20OPTIONAL%20%7B%20%3Fpainting%20wdt%3AP276%20%3Flocation.%20%7D%0A%20%20OPTIONAL%20%7B%20%3Fpainting%20wdt%3AP136%20%3Fgenre.%20%7D%0A%20%20OPTIONAL%20%7B%20%3Fpainting%20wdt%3AP180%20%3Fdepicts.%20%7D%0A%20%20OPTIONAL%20%7B%20%3Fpainting%20wdt%3AP921%20%3Fmain_subject.%20%7D%0A%0A%20%20SERVICE%20wikibase%3Alabel%20%7B%0A%20%20%20%20bd%3AserviceParam%20wikibase%3Alanguage%20%22%5BAUTO_LANGUAGE%5D%2Cen%22.%0A%20%20%20%20%3Fcreator%20rdfs%3Alabel%20%3FcreatorLabel.%0A%20%20%20%20%3Fmade_from_material%20rdfs%3Alabel%20%3Fmade_from_materialLabel.%0A%20%20%20%20%3Flocation%20rdfs%3Alabel%20%3FlocationLabel.%0A%20%20%20%20%3Fgenre%20rdfs%3Alabel%20%3FgenreLabel.%0A%20%20%20%20%3Fdepicts%20rdfs%3Alabel%20%3FdepictsLabel.%0A%20%20%20%20%3Fmain_subject%20rdfs%3Alabel%20%3Fmain_subjectLabel.%0A%20%20%7D%0A%7D%0AGROUP%20BY%20%3Fpainting%20%3FcreatorLabel%20%3Fimage%20%3Fcopyright_status%20%3Finventory_number%20%3Fmade_from_materialLabels%20%3FlocationLabel%20%3FgenreLabels%20%3FdepictsLabels%20%3Fmain_subjectLabel%0AORDER%20BY%20%3Fpainting%0ALIMIT%2027%0A\n",
    "\n",
    "import sys\n",
    "from SPARQLWrapper import SPARQLWrapper, JSON\n",
    "\n",
    "endpoint_url = \"https://query.wikidata.org/sparql\"\n",
    "\n",
    "query = \"\"\"SELECT \n",
    "  ?painting \n",
    "  ?creatorLabel\n",
    "  ?image\n",
    "  ?copyright_status \n",
    "  ?inventory_number \n",
    "  (GROUP_CONCAT(DISTINCT ?made_from_materialLabel; separator=\", \") AS ?made_from_materialLabels) \n",
    "  ?locationLabel\n",
    "  (GROUP_CONCAT(DISTINCT ?genreLabel; separator=\", \") AS ?genreLabels) \n",
    "  (GROUP_CONCAT(DISTINCT ?depictsLabel; separator=\", \") AS ?depictsLabels) \n",
    "  ?main_subjectLabel\n",
    "WHERE {\n",
    "  ?painting wdt:P31 wd:Q3305213;  # Instance of \"painting\"\n",
    "            wdt:P195 wd:Q160236;   # Part of the Metropolitan Museum of Art collection\n",
    "            wdt:P180 wd:Q4022.    # Depicts 'river'\n",
    "  OPTIONAL { ?painting wdt:P170 ?creator. }\n",
    "  OPTIONAL { ?painting wdt:P18 ?image. }\n",
    "  OPTIONAL { ?painting wdt:P6216 ?copyright_status. }\n",
    "  OPTIONAL { ?painting wdt:P571 ?inception. }\n",
    "  OPTIONAL { ?painting wdt:P217 ?inventory_number. }\n",
    "  OPTIONAL { ?painting wdt:P186 ?made_from_material. }\n",
    "  OPTIONAL { ?painting wdt:P276 ?location. }\n",
    "  OPTIONAL { ?painting wdt:P136 ?genre. }\n",
    "  OPTIONAL { ?painting wdt:P180 ?depicts. }\n",
    "  OPTIONAL { ?painting wdt:P921 ?main_subject. }\n",
    "\n",
    "  SERVICE wikibase:label {\n",
    "    bd:serviceParam wikibase:language \"[AUTO_LANGUAGE],en\".\n",
    "    ?creator rdfs:label ?creatorLabel.\n",
    "    ?made_from_material rdfs:label ?made_from_materialLabel.\n",
    "    ?location rdfs:label ?locationLabel.\n",
    "    ?genre rdfs:label ?genreLabel.\n",
    "    ?depicts rdfs:label ?depictsLabel.\n",
    "    ?main_subject rdfs:label ?main_subjectLabel.\n",
    "  }\n",
    "}\n",
    "GROUP BY ?painting ?creatorLabel ?image ?copyright_status ?inventory_number ?made_from_materialLabels ?locationLabel ?genreLabels ?depictsLabels ?main_subjectLabel\n",
    "ORDER BY ?painting\n",
    "LIMIT 27\n",
    "\"\"\"\n",
    "\n",
    "\n",
    "def get_results(endpoint_url, query):\n",
    "    user_agent = \"WDQS-example Python/%s.%s\" % (sys.version_info[0], sys.version_info[1])\n",
    "    # TODO adjust user agent; see https://w.wiki/CX6\n",
    "    sparql = SPARQLWrapper(endpoint_url, agent=user_agent)\n",
    "    sparql.setQuery(query)\n",
    "    sparql.setReturnFormat(JSON)\n",
    "    return sparql.query().convert()\n",
    "\n",
    "\n",
    "results = get_results(endpoint_url, query)\n",
    "\n",
    "for result in results[\"results\"][\"bindings\"]:\n",
    "    print(result)\n"
   ]
  }
 ],
 "metadata": {
  "kernelspec": {
   "display_name": "Python 3",
   "language": "python",
   "name": "python3"
  },
  "language_info": {
   "codemirror_mode": {
    "name": "ipython",
    "version": 3
   },
   "file_extension": ".py",
   "mimetype": "text/x-python",
   "name": "python",
   "nbconvert_exporter": "python",
   "pygments_lexer": "ipython3",
   "version": "3.11.3"
  },
  "vscode": {
   "interpreter": {
    "hash": "4f95cac2866d48a154725f15da66ad3889a01053732bcd1fedad154961939282"
   }
  }
 },
 "nbformat": 4,
 "nbformat_minor": 5
}
